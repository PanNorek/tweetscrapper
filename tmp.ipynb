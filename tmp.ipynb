{
 "cells": [
  {
   "cell_type": "code",
   "execution_count": 2,
   "metadata": {},
   "outputs": [],
   "source": [
    "import pandas as pd\n",
    "import numpy as np\n",
    "import json"
   ]
  },
  {
   "cell_type": "code",
   "execution_count": 3,
   "metadata": {},
   "outputs": [],
   "source": [
    "data = json.load(open('file_name5.json'))\n",
    "data2 = json.load(open('file_name4.json'))\n"
   ]
  },
  {
   "cell_type": "code",
   "execution_count": 6,
   "metadata": {},
   "outputs": [],
   "source": [
    "df = pd.json_normalize(data[\"data\"])\n",
    "df2 = pd.json_normalize(data2[\"data\"])"
   ]
  },
  {
   "cell_type": "code",
   "execution_count": 7,
   "metadata": {},
   "outputs": [
    {
     "data": {
      "text/html": [
       "<div>\n",
       "<style scoped>\n",
       "    .dataframe tbody tr th:only-of-type {\n",
       "        vertical-align: middle;\n",
       "    }\n",
       "\n",
       "    .dataframe tbody tr th {\n",
       "        vertical-align: top;\n",
       "    }\n",
       "\n",
       "    .dataframe thead th {\n",
       "        text-align: right;\n",
       "    }\n",
       "</style>\n",
       "<table border=\"1\" class=\"dataframe\">\n",
       "  <thead>\n",
       "    <tr style=\"text-align: right;\">\n",
       "      <th></th>\n",
       "      <th>author_id</th>\n",
       "      <th>created_at</th>\n",
       "      <th>text</th>\n",
       "      <th>id</th>\n",
       "    </tr>\n",
       "  </thead>\n",
       "  <tbody>\n",
       "    <tr>\n",
       "      <th>0</th>\n",
       "      <td>1375240729094684676</td>\n",
       "      <td>2022-02-12T20:43:26.000Z</td>\n",
       "      <td>@artii96 @W_Kowal Legia awans, Artii.</td>\n",
       "      <td>1492600254159540225</td>\n",
       "    </tr>\n",
       "    <tr>\n",
       "      <th>1</th>\n",
       "      <td>1351388076879339522</td>\n",
       "      <td>2022-02-12T20:42:36.000Z</td>\n",
       "      <td>@SebastianPx1 @KajetanL @EmyylBe @W_Kowal To s...</td>\n",
       "      <td>1492600045778124802</td>\n",
       "    </tr>\n",
       "    <tr>\n",
       "      <th>2</th>\n",
       "      <td>899384057360003072</td>\n",
       "      <td>2022-02-12T20:42:06.000Z</td>\n",
       "      <td>@KajetanL @EmyylBe @W_Kowal Tym że Juventus to...</td>\n",
       "      <td>1492599919219204100</td>\n",
       "    </tr>\n",
       "    <tr>\n",
       "      <th>3</th>\n",
       "      <td>2282644466</td>\n",
       "      <td>2022-02-12T20:42:02.000Z</td>\n",
       "      <td>@RawaLN1 @W_Kowal @mario76wawpl No, ciekawe.</td>\n",
       "      <td>1492599900177117192</td>\n",
       "    </tr>\n",
       "    <tr>\n",
       "      <th>4</th>\n",
       "      <td>1445139778127663108</td>\n",
       "      <td>2022-02-12T20:41:12.000Z</td>\n",
       "      <td>@W_Kowal Przypomnę, że Legia nigdy nie wygrała...</td>\n",
       "      <td>1492599692592660484</td>\n",
       "    </tr>\n",
       "  </tbody>\n",
       "</table>\n",
       "</div>"
      ],
      "text/plain": [
       "             author_id                created_at  \\\n",
       "0  1375240729094684676  2022-02-12T20:43:26.000Z   \n",
       "1  1351388076879339522  2022-02-12T20:42:36.000Z   \n",
       "2   899384057360003072  2022-02-12T20:42:06.000Z   \n",
       "3           2282644466  2022-02-12T20:42:02.000Z   \n",
       "4  1445139778127663108  2022-02-12T20:41:12.000Z   \n",
       "\n",
       "                                                text                   id  \n",
       "0              @artii96 @W_Kowal Legia awans, Artii.  1492600254159540225  \n",
       "1  @SebastianPx1 @KajetanL @EmyylBe @W_Kowal To s...  1492600045778124802  \n",
       "2  @KajetanL @EmyylBe @W_Kowal Tym że Juventus to...  1492599919219204100  \n",
       "3       @RawaLN1 @W_Kowal @mario76wawpl No, ciekawe.  1492599900177117192  \n",
       "4  @W_Kowal Przypomnę, że Legia nigdy nie wygrała...  1492599692592660484  "
      ]
     },
     "execution_count": 7,
     "metadata": {},
     "output_type": "execute_result"
    }
   ],
   "source": [
    "df.head()"
   ]
  },
  {
   "cell_type": "code",
   "execution_count": 8,
   "metadata": {},
   "outputs": [
    {
     "data": {
      "text/html": [
       "<div>\n",
       "<style scoped>\n",
       "    .dataframe tbody tr th:only-of-type {\n",
       "        vertical-align: middle;\n",
       "    }\n",
       "\n",
       "    .dataframe tbody tr th {\n",
       "        vertical-align: top;\n",
       "    }\n",
       "\n",
       "    .dataframe thead th {\n",
       "        text-align: right;\n",
       "    }\n",
       "</style>\n",
       "<table border=\"1\" class=\"dataframe\">\n",
       "  <thead>\n",
       "    <tr style=\"text-align: right;\">\n",
       "      <th></th>\n",
       "      <th>author_id</th>\n",
       "      <th>text</th>\n",
       "      <th>created_at</th>\n",
       "      <th>id</th>\n",
       "    </tr>\n",
       "  </thead>\n",
       "  <tbody>\n",
       "    <tr>\n",
       "      <th>0</th>\n",
       "      <td>3131438158</td>\n",
       "      <td>RT @MBalawelder: #ukraincy #pis #biden #polska...</td>\n",
       "      <td>2022-02-12T20:37:05.000Z</td>\n",
       "      <td>1492598655114792961</td>\n",
       "    </tr>\n",
       "    <tr>\n",
       "      <th>1</th>\n",
       "      <td>1259523260355612674</td>\n",
       "      <td>RT @patriokrata: Korsze, Mazury. \\nLudzie zacz...</td>\n",
       "      <td>2022-02-12T20:36:52.000Z</td>\n",
       "      <td>1492598602249773057</td>\n",
       "    </tr>\n",
       "    <tr>\n",
       "      <th>2</th>\n",
       "      <td>1231480724785713152</td>\n",
       "      <td>RT @patriokrata: Korsze, Mazury. \\nLudzie zacz...</td>\n",
       "      <td>2022-02-12T20:34:06.000Z</td>\n",
       "      <td>1492597906733338624</td>\n",
       "    </tr>\n",
       "    <tr>\n",
       "      <th>3</th>\n",
       "      <td>987423951587553280</td>\n",
       "      <td>RT @MBalawelder: szczury juz spierdalaja :) sl...</td>\n",
       "      <td>2022-02-12T20:29:17.000Z</td>\n",
       "      <td>1492596695296884752</td>\n",
       "    </tr>\n",
       "    <tr>\n",
       "      <th>4</th>\n",
       "      <td>890913994621497344</td>\n",
       "      <td>RT @MBalawelder: zydostwo z pisu poswieci Pols...</td>\n",
       "      <td>2022-02-12T20:28:31.000Z</td>\n",
       "      <td>1492596500903469066</td>\n",
       "    </tr>\n",
       "  </tbody>\n",
       "</table>\n",
       "</div>"
      ],
      "text/plain": [
       "             author_id                                               text  \\\n",
       "0           3131438158  RT @MBalawelder: #ukraincy #pis #biden #polska...   \n",
       "1  1259523260355612674  RT @patriokrata: Korsze, Mazury. \\nLudzie zacz...   \n",
       "2  1231480724785713152  RT @patriokrata: Korsze, Mazury. \\nLudzie zacz...   \n",
       "3   987423951587553280  RT @MBalawelder: szczury juz spierdalaja :) sl...   \n",
       "4   890913994621497344  RT @MBalawelder: zydostwo z pisu poswieci Pols...   \n",
       "\n",
       "                 created_at                   id  \n",
       "0  2022-02-12T20:37:05.000Z  1492598655114792961  \n",
       "1  2022-02-12T20:36:52.000Z  1492598602249773057  \n",
       "2  2022-02-12T20:34:06.000Z  1492597906733338624  \n",
       "3  2022-02-12T20:29:17.000Z  1492596695296884752  \n",
       "4  2022-02-12T20:28:31.000Z  1492596500903469066  "
      ]
     },
     "execution_count": 8,
     "metadata": {},
     "output_type": "execute_result"
    }
   ],
   "source": [
    "df2.head()"
   ]
  }
 ],
 "metadata": {
  "interpreter": {
   "hash": "27ac190fcfd829380055e1ee37e171fc25957fca170d322ce369157862dc959d"
  },
  "kernelspec": {
   "display_name": "Python 3.10.0 64-bit ('ML': virtualenv)",
   "language": "python",
   "name": "python3"
  },
  "language_info": {
   "codemirror_mode": {
    "name": "ipython",
    "version": 3
   },
   "file_extension": ".py",
   "mimetype": "text/x-python",
   "name": "python",
   "nbconvert_exporter": "python",
   "pygments_lexer": "ipython3",
   "version": "3.9.10"
  },
  "orig_nbformat": 4
 },
 "nbformat": 4,
 "nbformat_minor": 2
}
