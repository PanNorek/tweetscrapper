{
 "cells": [
  {
   "cell_type": "code",
   "execution_count": 9,
   "metadata": {},
   "outputs": [],
   "source": [
    "import os\n",
    "import pandas as pd\n",
    "import numpy as np\n",
    "import matplotlib.pyplot as plt"
   ]
  },
  {
   "cell_type": "code",
   "execution_count": 10,
   "metadata": {},
   "outputs": [],
   "source": [
    "# first initialisation\n",
    "# df = pd.DataFrame()\n",
    "\n",
    "df = pd.read_csv(r'..\\src\\data\\all-tweets.csv',encoding=\"utf-8-sig\")\n"
   ]
  },
  {
   "cell_type": "code",
   "execution_count": 11,
   "metadata": {},
   "outputs": [
    {
     "name": "stdout",
     "output_type": "stream",
     "text": [
      "..\\src\\data\\2022-03-05-10-54-tweets.csv\n",
      "..\\src\\data\\2022-03-05-11-12-tweets.csv\n",
      "..\\src\\data\\2022-03-05-11-29-tweets.csv\n",
      "..\\src\\data\\2022-03-05-11-46-tweets.csv\n",
      "..\\src\\data\\2022-03-05-12-21-tweets.csv\n",
      "..\\src\\data\\2022-03-05-12-3-tweets.csv\n",
      "..\\src\\data\\all-tweets.csv\n"
     ]
    }
   ],
   "source": [
    "for dirname, _, filenames in os.walk(r'..\\src\\data'):\n",
    "    for filename in filenames:\n",
    "        print(os.path.join(dirname, filename))\n",
    "        with pd.option_context('display.max_colwidth', 800):  \n",
    "            df = pd.concat([df,pd.read_csv(os.path.join(dirname, filename))], ignore_index=True) \n",
    "        os.remove(os.path.join(dirname, filename))\n",
    "        "
   ]
  },
  {
   "cell_type": "code",
   "execution_count": 16,
   "metadata": {},
   "outputs": [
    {
     "data": {
      "text/plain": [
       "(2202, 9)"
      ]
     },
     "execution_count": 16,
     "metadata": {},
     "output_type": "execute_result"
    }
   ],
   "source": [
    "df.shape"
   ]
  },
  {
   "cell_type": "code",
   "execution_count": 13,
   "metadata": {},
   "outputs": [],
   "source": [
    "df.drop_duplicates('text', inplace=True)"
   ]
  },
  {
   "cell_type": "code",
   "execution_count": 14,
   "metadata": {},
   "outputs": [
    {
     "data": {
      "text/plain": [
       "<pandas._config.config.option_context at 0x22de4963070>"
      ]
     },
     "execution_count": 14,
     "metadata": {},
     "output_type": "execute_result"
    }
   ],
   "source": [
    "pd.option_context('display.max_colwidth', 800)"
   ]
  },
  {
   "cell_type": "code",
   "execution_count": 15,
   "metadata": {},
   "outputs": [],
   "source": [
    "with pd.option_context('display.max_colwidth',1000):\n",
    "    df.to_csv(r'..\\src\\data\\all-tweets.csv', index=False, encoding=\"utf-8-sig\")"
   ]
  }
 ],
 "metadata": {
  "interpreter": {
   "hash": "cdc50a57a6306f81401cd74ad9205586d65e161af0db0651f9968f600bef81aa"
  },
  "kernelspec": {
   "display_name": "Python 3.9.7 ('deepl')",
   "language": "python",
   "name": "python3"
  },
  "language_info": {
   "codemirror_mode": {
    "name": "ipython",
    "version": 3
   },
   "file_extension": ".py",
   "mimetype": "text/x-python",
   "name": "python",
   "nbconvert_exporter": "python",
   "pygments_lexer": "ipython3",
   "version": "3.9.7"
  },
  "orig_nbformat": 4
 },
 "nbformat": 4,
 "nbformat_minor": 2
}
